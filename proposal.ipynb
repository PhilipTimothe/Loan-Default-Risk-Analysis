{
 "cells": [
  {
   "cell_type": "markdown",
   "metadata": {},
   "source": [
    "# Project Proposal\n",
    "\n",
    "### The Problem \n",
    "\n",
    "Financial institutions face significant losses due to loan defaults. This project aims to identify the characteristics of high-risk applicants and recommend strategies to mitigate risk.\n",
    "\n",
    "1. What factors contribute most to loan defaults?\n",
    "2. How can we predict the likelihood of default for new applicants?\n",
    "3. What actions can reduce default rates while maintaining loan volume?\n"
   ]
  },
  {
   "cell_type": "code",
   "execution_count": null,
   "metadata": {
    "vscode": {
     "languageId": "plaintext"
    }
   },
   "outputs": [],
   "source": []
  }
 ],
 "metadata": {
  "language_info": {
   "name": "python"
  }
 },
 "nbformat": 4,
 "nbformat_minor": 2
}
